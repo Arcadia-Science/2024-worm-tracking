{
 "cells": [
  {
   "cell_type": "markdown",
   "id": "bc578355-f402-4991-bd50-cdbe1122d57f",
   "metadata": {},
   "source": [
    "# Determine best batch processing configuration parameter values for Tierpsy tracker\n",
    "\n",
    "To batch process worm videos using the Tierpsy tracker, you need a single parameter file.\n",
    "I adopted a structured approach to determine the optimal parameters for batch processing multiple videos.\n",
    "First, I manually adjusted the settings in the Tierpsy tracker GUI for each video to ensure I could consistently detect worms while minimizing background noise.\n",
    "I aimed to keep the worms visible throughout the video without the mask obscuring the worm, which helps maintain worm identification across frames.\n",
    "\n",
    "When I couldn't fully eliminate the background, I tweaked the settings to ensure it flickered enough so that it can be filtered out later as a non-worm entity because it wouldn't have enough frames where the \"worm\" was detected.\n",
    "\n",
    "The parameters I used to optimize worm detection varied from video to video.\n",
    "\n",
    "To streamline the selection of parameters for a batch of worms, I compiled all the optimized parameters into a single CSV file.\n",
    "I ran the following script to parse the parameter JSON files from a specified directory and output them into a single CSV:\n",
    "\n",
    "```{bash}\n",
    "python scripts/parse_tierpsy_json_to_csv.py --directory ~/Downloads/RawVideos/ --output tierpsy_params_NGM.csv\n",
    "```\n",
    "\n",
    "Next, in this notebook, I analyze the data from the CSV to finalize the optimal parameter settings for processing multiple experiments.\n",
    "\n",
    "The tables at the end of the notebook have the values I used for the Tierpsy tracker analysis.\n",
    "I rounded down to the nearest whole number (9.22 -> 9) or to the nearest 100 (505.5555 -> 500)."
   ]
  },
  {
   "cell_type": "code",
   "execution_count": 30,
   "id": "e990d62b-d823-4756-8027-a1491a77c995",
   "metadata": {},
   "outputs": [],
   "source": [
    "library(tidyverse)"
   ]
  },
  {
   "cell_type": "code",
   "execution_count": 22,
   "id": "e381e5db-d1c6-4ab9-8baa-e4986c8a6faf",
   "metadata": {},
   "outputs": [],
   "source": [
    "parameters <- read_csv(\"../tierpsy_params_NGM.csv\", show_col_types = FALSE) %>%\n",
    "  rename(parameter = `Parameter Name`)\n",
    "\n",
    "simplify_column_names <- function(column_names) {\n",
    "  column_names %>%\n",
    "    str_remove(pattern = \"/Users/taylorreiter/Downloads/RawVideos/NGM_Manual_tracking/\") %>%\n",
    "    str_remove(pattern = \"/Users/taylorreiter/Downloads/RawVideos/NGM_manual_tracking_5h/\") %>%\n",
    "    str_remove(pattern = \"/Point0000_ChannelJD_wormmotility_Seq0000\") %>%\n",
    "    str_remove(pattern = \".json\")\n",
    "    #str_extract(pattern = \".*(?=_Seq)\") %>%\n",
    "    #str_replace(pattern = \"(_dogfilter)?$\", replacement = function(x) ifelse(x == \"_dogfilter\", \"-dogfilter\", \"\"))\n",
    "}\n",
    "\n",
    "# Apply the function to the column names\n",
    "names(parameters) <- simplify_column_names(names(parameters))"
   ]
  },
  {
   "cell_type": "code",
   "execution_count": 37,
   "id": "b9af7160-0fbd-481a-85b5-85abd9595c8f",
   "metadata": {},
   "outputs": [
    {
     "data": {
      "text/html": [
       "<table class=\"dataframe\">\n",
       "<caption>A tibble: 4 × 2</caption>\n",
       "<thead>\n",
       "\t<tr><th scope=col>parameter</th><th scope=col>mean_value</th></tr>\n",
       "\t<tr><th scope=col>&lt;chr&gt;</th><th scope=col>&lt;dbl&gt;</th></tr>\n",
       "</thead>\n",
       "<tbody>\n",
       "\t<tr><td>dilation_size    </td><td>  9.00000</td></tr>\n",
       "\t<tr><td>mask_min_area    </td><td>505.55556</td></tr>\n",
       "\t<tr><td>thresh_C         </td><td> 10.33333</td></tr>\n",
       "\t<tr><td>thresh_block_size</td><td> 51.22222</td></tr>\n",
       "</tbody>\n",
       "</table>\n"
      ],
      "text/latex": [
       "A tibble: 4 × 2\n",
       "\\begin{tabular}{ll}\n",
       " parameter & mean\\_value\\\\\n",
       " <chr> & <dbl>\\\\\n",
       "\\hline\n",
       "\t dilation\\_size     &   9.00000\\\\\n",
       "\t mask\\_min\\_area     & 505.55556\\\\\n",
       "\t thresh\\_C          &  10.33333\\\\\n",
       "\t thresh\\_block\\_size &  51.22222\\\\\n",
       "\\end{tabular}\n"
      ],
      "text/markdown": [
       "\n",
       "A tibble: 4 × 2\n",
       "\n",
       "| parameter &lt;chr&gt; | mean_value &lt;dbl&gt; |\n",
       "|---|---|\n",
       "| dilation_size     |   9.00000 |\n",
       "| mask_min_area     | 505.55556 |\n",
       "| thresh_C          |  10.33333 |\n",
       "| thresh_block_size |  51.22222 |\n",
       "\n"
      ],
      "text/plain": [
       "  parameter         mean_value\n",
       "1 dilation_size       9.00000 \n",
       "2 mask_min_area     505.55556 \n",
       "3 thresh_C           10.33333 \n",
       "4 thresh_block_size  51.22222 "
      ]
     },
     "metadata": {},
     "output_type": "display_data"
    }
   ],
   "source": [
    "parameters %>%\n",
    "  select(parameter, ends_with(\"dogfilter\")) %>%\n",
    "  filter(parameter %in% c(\"mask_min_area\", \"thresh_C\", \"thresh_block_size\", \"dilation_size\")) %>%\n",
    "  pivot_longer(cols = ends_with(\"dogfilter\"), names_to = \"image\", values_to = \"value\") %>%\n",
    "  group_by(parameter) %>%\n",
    "  summarize(mean_value = mean(as.numeric(value)))"
   ]
  },
  {
   "cell_type": "code",
   "execution_count": 40,
   "id": "e313fcae-34bc-4468-9153-5c9ab96cb62c",
   "metadata": {},
   "outputs": [
    {
     "data": {
      "text/html": [
       "<table class=\"dataframe\">\n",
       "<caption>A tibble: 4 × 2</caption>\n",
       "<thead>\n",
       "\t<tr><th scope=col>parameter</th><th scope=col>mean_value</th></tr>\n",
       "\t<tr><th scope=col>&lt;chr&gt;</th><th scope=col>&lt;dbl&gt;</th></tr>\n",
       "</thead>\n",
       "<tbody>\n",
       "\t<tr><td>dilation_size    </td><td>  9.222222</td></tr>\n",
       "\t<tr><td>mask_min_area    </td><td>922.222222</td></tr>\n",
       "\t<tr><td>thresh_C         </td><td> 15.111111</td></tr>\n",
       "\t<tr><td>thresh_block_size</td><td> 52.444444</td></tr>\n",
       "</tbody>\n",
       "</table>\n"
      ],
      "text/latex": [
       "A tibble: 4 × 2\n",
       "\\begin{tabular}{ll}\n",
       " parameter & mean\\_value\\\\\n",
       " <chr> & <dbl>\\\\\n",
       "\\hline\n",
       "\t dilation\\_size     &   9.222222\\\\\n",
       "\t mask\\_min\\_area     & 922.222222\\\\\n",
       "\t thresh\\_C          &  15.111111\\\\\n",
       "\t thresh\\_block\\_size &  52.444444\\\\\n",
       "\\end{tabular}\n"
      ],
      "text/markdown": [
       "\n",
       "A tibble: 4 × 2\n",
       "\n",
       "| parameter &lt;chr&gt; | mean_value &lt;dbl&gt; |\n",
       "|---|---|\n",
       "| dilation_size     |   9.222222 |\n",
       "| mask_min_area     | 922.222222 |\n",
       "| thresh_C          |  15.111111 |\n",
       "| thresh_block_size |  52.444444 |\n",
       "\n"
      ],
      "text/plain": [
       "  parameter         mean_value\n",
       "1 dilation_size       9.222222\n",
       "2 mask_min_area     922.222222\n",
       "3 thresh_C           15.111111\n",
       "4 thresh_block_size  52.444444"
      ]
     },
     "metadata": {},
     "output_type": "display_data"
    }
   ],
   "source": [
    "parameters %>%\n",
    "  select(parameter, !ends_with(\"dogfilter\")) %>%\n",
    "  filter(parameter %in% c(\"mask_min_area\", \"thresh_C\", \"thresh_block_size\", \"dilation_size\")) %>%\n",
    "  pivot_longer(cols = starts_with(\"2024\"), names_to = \"image\", values_to = \"value\") %>%\n",
    "  group_by(parameter) %>%\n",
    "  summarize(mean_value = mean(as.numeric(value)))"
   ]
  },
  {
   "cell_type": "code",
   "execution_count": 41,
   "id": "0049f398-c0b1-4e16-94da-f2a08ea72545",
   "metadata": {},
   "outputs": [
    {
     "data": {
      "text/plain": [
       "R version 4.3.3 (2024-02-29)\n",
       "Platform: x86_64-apple-darwin13.4.0 (64-bit)\n",
       "Running under: macOS Big Sur ... 10.16\n",
       "\n",
       "Matrix products: default\n",
       "BLAS/LAPACK: /Users/taylorreiter/miniconda3/envs/wormmotility/lib/libopenblasp-r0.3.27.dylib;  LAPACK version 3.12.0\n",
       "\n",
       "locale:\n",
       "[1] en_US.UTF-8/en_US.UTF-8/en_US.UTF-8/C/en_US.UTF-8/en_US.UTF-8\n",
       "\n",
       "time zone: America/New_York\n",
       "tzcode source: internal\n",
       "\n",
       "attached base packages:\n",
       "[1] stats     graphics  grDevices utils     datasets  methods   base     \n",
       "\n",
       "other attached packages:\n",
       " [1] lubridate_1.9.3 forcats_1.0.0   stringr_1.5.1   dplyr_1.1.4    \n",
       " [5] purrr_1.0.2     readr_2.1.5     tidyr_1.3.1     tibble_3.2.1   \n",
       " [9] ggplot2_3.5.1   tidyverse_2.0.0\n",
       "\n",
       "loaded via a namespace (and not attached):\n",
       " [1] bit_4.0.5         gtable_0.3.5      jsonlite_1.8.8    compiler_4.3.3   \n",
       " [5] crayon_1.5.3      tidyselect_1.2.1  IRdisplay_1.1     parallel_4.3.3   \n",
       " [9] scales_1.3.0      uuid_1.2-0        fastmap_1.2.0     IRkernel_1.3.2   \n",
       "[13] R6_2.5.1          generics_0.1.3    munsell_0.5.1     pillar_1.9.0     \n",
       "[17] tzdb_0.4.0        rlang_1.1.4       utf8_1.2.4        stringi_1.8.4    \n",
       "[21] repr_1.1.7        bit64_4.0.5       timechange_0.3.0  cli_3.6.3        \n",
       "[25] withr_3.0.0       magrittr_2.0.3    digest_0.6.36     grid_4.3.3       \n",
       "[29] vroom_1.6.5       base64enc_0.1-3   hms_1.1.3         pbdZMQ_0.3-11    \n",
       "[33] lifecycle_1.0.4   vctrs_0.6.5       evaluate_0.24.0   glue_1.7.0       \n",
       "[37] fansi_1.0.6       colorspace_2.1-0  tools_4.3.3       pkgconfig_2.0.3  \n",
       "[41] htmltools_0.5.8.1"
      ]
     },
     "metadata": {},
     "output_type": "display_data"
    }
   ],
   "source": [
    "sessionInfo()"
   ]
  },
  {
   "cell_type": "code",
   "execution_count": null,
   "id": "6cec11a0-ff0d-4fc3-945f-2d4711c7dd2b",
   "metadata": {},
   "outputs": [],
   "source": []
  }
 ],
 "metadata": {
  "kernelspec": {
   "display_name": "R",
   "language": "R",
   "name": "ir"
  },
  "language_info": {
   "codemirror_mode": "r",
   "file_extension": ".r",
   "mimetype": "text/x-r-source",
   "name": "R",
   "pygments_lexer": "r",
   "version": "4.3.3"
  }
 },
 "nbformat": 4,
 "nbformat_minor": 5
}
