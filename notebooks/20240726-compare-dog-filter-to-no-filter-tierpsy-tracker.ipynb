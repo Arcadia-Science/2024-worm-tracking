{
 "cells": [
  {
   "cell_type": "markdown",
   "id": "d0ab50bb-eefa-473c-b634-999dc0b7e3f9",
   "metadata": {},
   "source": [
    "# Compare image preprocessing (difference of gaussians filter) vs. no preprocessing prior to running Tierpsy tracker\n",
    "\n",
    "We're trying to use Tierpsy tracker to track motility of *C. elegans*.\n",
    "Our early imaging experiments showed that bacterial lawns on plates cause dark streaks in the background of the image, making it difficult for computer vision software to reliably identify and track a worm.\n",
    "In response, we imaged worms on empty plates (OP50-).\n",
    "Even still, some fields of view (FOV) end up with chunks of agar, which cause dark backgrounds that make it difficult for the Tierpsy tracker to detect a worm.\n",
    "This notebook explores whether applying a difference of Gaussians (DoG) filter before Tierpsy tracker analysis improves worm tracking.\n",
    "The DoG filter suppresses the blurry, low-spatial-frequency background relative to the worms' sharp, high-frequency edges."
   ]
  },
  {
   "cell_type": "markdown",
   "id": "fc146655-764e-4d76-9b08-b416e83402f2",
   "metadata": {},
   "source": [
    "## Preprocessing microscopy imaging before Tierpsy tracker analysis\n",
    "\n",
    "The preprocessing steps below produce Tierpsy tracker-ready MOVs with and without DoG filtering.\n",
    "\n",
    "Convert the original nd2 into a TIFF stack. \n",
    "(I changed the parameters `XY_DOWNSAMPLE_FACTOR = 1` and `T_DOWNSAMPLE_FACTOR = 1`.)\n",
    "I don't want to test for frame rate/size initially.\n",
    "\n",
    "```\n",
    "python scripts/convert_nd2.py convert-dir \\\n",
    "    --input-dirpath ~/s3/2024-worm-motility/microscopy_data/ \\\n",
    "    --output-dirpath processed-data/2024-worm-motility/microscopy_data/\n",
    "```\n",
    "\n",
    "DoG filter the TIFF stacks.\n",
    "The script below applies a DoG filter to each TIFF in a stack individually and outputs the filtered stack.\n",
    "\n",
    "```\n",
    "python scripts/dog_filter2.py dog-filter-dir --input-dirpath processed-data --output-dirpath processed-data\n",
    "```\n",
    "\n",
    "Convert the DoG-filtered and non-DoG-filtered TIFFs to MOV for processing with Tierpsy tracker.\n",
    "Tierpsy says it takes TIFF stacks, but I have been unsuccessful with this approach. \n",
    "It treats all TIFFs in a directory as a single file instead of each file as a stack.\n",
    "MOV works fine.\n",
    "\n",
    "```\n",
    "python scripts/convert_tiff_to_mov2.py convert-dir \\\n",
    "    --input-dirpath processed-data \\\n",
    "    --output-dirpath processed-data \\\n",
    "    --filter-string Seq\n",
    "```\n",
    "\n",
    "Archive and compress the MOV files and transfer to a non-M1 mac to run Tierpsy tracker\n",
    "\n",
    "```\n",
    "find . -name \"*.mov\" | tar -cf microscopy_data.tar.gz -T -\n",
    "```\n",
    "\n",
    "## Tierpsy tracker analysis\n",
    "\n",
    "The steps below produce worm motility measurements from DoG-filtered and non-DoG-filtered images.\n",
    "\n",
    "Launch the Tierpsy tracker Docker container (double click on the `tierpsy.command` executable file) and run Tierpsy tracker.\n",
    "I opened each file in the Tierpsy tracker GUI and optimized filter settings to retain the most worms from each FOV.\n",
    "I then reconciled the optimal settings across the files and moved forward with these.\n",
    "To reconcile values, I either:\n",
    "* took an average of all optimal values for a given parameter or \n",
    "* took the minimum or maximum value for a given parameter\n",
    "\n",
    "See the notebook `20240725-decide-tierpsy-batch-config-params.ipynb` for more information.\n",
    "\n",
    "I then ran tierpsy tracker on all videos (dog filtered and non-dog filtered) with each of the parameters files.\n",
    "```\n",
    "tierpsy_process --video_dir_root local_drive/Downloads/NGM_manual_tracking_both/RawVideos --pattern_include *mov --json_file local_drive/Downloads/NGM_manual_tracking_both/nofilter.json\n",
    "\n",
    "tierpsy_process --video_dir_root local_drive/Downloads/NGM_manual_tracking_both/RawVideos --pattern_include *mov --json_file local_drive/Downloads/NGM_manual_tracking_both/dogfilter.json\n",
    "```"
   ]
  },
  {
   "cell_type": "markdown",
   "id": "92e892cd-0adb-4a03-9855-2d19ec3416e8",
   "metadata": {},
   "source": [
    "## look at images for ground truth\n",
    "\n",
    "### 1 hr images\n",
    "\n",
    "- 20240722_104547_685: 1 worm inframe on agar the entire time; 1 worm in and out of FOV\n",
    "- 20240722_104800_780: 1 worm inframe on agar the entire time\n",
    "- 20240722_105049_233: 1 worm inframe no agar the entire time, blurry; 1 worm enters FOV, blurry\n",
    "- 20240722_105204_511: 1 worm in frame but FOV moves, no agar until end\n",
    "\n",
    "### 5 hr images\n",
    "- 20240722_135936_253: 1 worm inframe on agar entire time\n",
    "- 20240722_140218_590: 1 worm in frame no agar the entire time\n",
    "- 20240722_140333_297: 1 worm in frame on agar the entire time\n",
    "- 20240722_140446_147: 2 worms in frame on agar the entire time\n",
    "- 20240722_140634_714: 2 worms on agar the entire time. Just their heads exit the frame. 1 worm no agar the entire time.\n",
    "\n",
    "\n",
    "**Total possible**: 14 worms.  \n",
    "**In FOV entire time**: 12 worms"
   ]
  },
  {
   "cell_type": "code",
   "execution_count": 53,
   "id": "c228dbf6-46fe-4084-8a40-be3e4a2dca66",
   "metadata": {},
   "outputs": [
    {
     "data": {
      "text/html": [
       "<table class=\"dataframe\">\n",
       "<caption>A data.frame: 9 × 3</caption>\n",
       "<thead>\n",
       "\t<tr><th scope=col>file_id</th><th scope=col>time</th><th scope=col>description</th></tr>\n",
       "\t<tr><th scope=col>&lt;chr&gt;</th><th scope=col>&lt;chr&gt;</th><th scope=col>&lt;chr&gt;</th></tr>\n",
       "</thead>\n",
       "<tbody>\n",
       "\t<tr><td>20240722_104547_685</td><td>1hr</td><td>1 worm inframe on agar the entire time; 1 worm in and out of FOV                                 </td></tr>\n",
       "\t<tr><td>20240722_104800_780</td><td>1hr</td><td>1 worm inframe on agar the entire time                                                           </td></tr>\n",
       "\t<tr><td>20240722_105049_233</td><td>1hr</td><td>1 worm inframe no agar the entire time, blurry; 1 worm enters FOV, blurry                        </td></tr>\n",
       "\t<tr><td>20240722_105204_511</td><td>1hr</td><td>1 worm in frame but FOV moves, no agar until end                                                 </td></tr>\n",
       "\t<tr><td>20240722_135936_253</td><td>5hr</td><td>1 worm inframe on agar entire time                                                               </td></tr>\n",
       "\t<tr><td>20240722_140218_590</td><td>5hr</td><td>1 worm in frame no agar the entire time                                                          </td></tr>\n",
       "\t<tr><td>20240722_140333_297</td><td>5hr</td><td>1 worm in frame on agar the entire time                                                          </td></tr>\n",
       "\t<tr><td>20240722_140446_147</td><td>5hr</td><td>2 worms in frame on agar the entire time                                                         </td></tr>\n",
       "\t<tr><td>20240722_140634_714</td><td>5hr</td><td>2 worms on agar the entire time. Just their heads exit the frame; 1 worm no agar the entire time.</td></tr>\n",
       "</tbody>\n",
       "</table>\n"
      ],
      "text/latex": [
       "A data.frame: 9 × 3\n",
       "\\begin{tabular}{lll}\n",
       " file\\_id & time & description\\\\\n",
       " <chr> & <chr> & <chr>\\\\\n",
       "\\hline\n",
       "\t 20240722\\_104547\\_685 & 1hr & 1 worm inframe on agar the entire time; 1 worm in and out of FOV                                 \\\\\n",
       "\t 20240722\\_104800\\_780 & 1hr & 1 worm inframe on agar the entire time                                                           \\\\\n",
       "\t 20240722\\_105049\\_233 & 1hr & 1 worm inframe no agar the entire time, blurry; 1 worm enters FOV, blurry                        \\\\\n",
       "\t 20240722\\_105204\\_511 & 1hr & 1 worm in frame but FOV moves, no agar until end                                                 \\\\\n",
       "\t 20240722\\_135936\\_253 & 5hr & 1 worm inframe on agar entire time                                                               \\\\\n",
       "\t 20240722\\_140218\\_590 & 5hr & 1 worm in frame no agar the entire time                                                          \\\\\n",
       "\t 20240722\\_140333\\_297 & 5hr & 1 worm in frame on agar the entire time                                                          \\\\\n",
       "\t 20240722\\_140446\\_147 & 5hr & 2 worms in frame on agar the entire time                                                         \\\\\n",
       "\t 20240722\\_140634\\_714 & 5hr & 2 worms on agar the entire time. Just their heads exit the frame; 1 worm no agar the entire time.\\\\\n",
       "\\end{tabular}\n"
      ],
      "text/markdown": [
       "\n",
       "A data.frame: 9 × 3\n",
       "\n",
       "| file_id &lt;chr&gt; | time &lt;chr&gt; | description &lt;chr&gt; |\n",
       "|---|---|---|\n",
       "| 20240722_104547_685 | 1hr | 1 worm inframe on agar the entire time; 1 worm in and out of FOV                                  |\n",
       "| 20240722_104800_780 | 1hr | 1 worm inframe on agar the entire time                                                            |\n",
       "| 20240722_105049_233 | 1hr | 1 worm inframe no agar the entire time, blurry; 1 worm enters FOV, blurry                         |\n",
       "| 20240722_105204_511 | 1hr | 1 worm in frame but FOV moves, no agar until end                                                  |\n",
       "| 20240722_135936_253 | 5hr | 1 worm inframe on agar entire time                                                                |\n",
       "| 20240722_140218_590 | 5hr | 1 worm in frame no agar the entire time                                                           |\n",
       "| 20240722_140333_297 | 5hr | 1 worm in frame on agar the entire time                                                           |\n",
       "| 20240722_140446_147 | 5hr | 2 worms in frame on agar the entire time                                                          |\n",
       "| 20240722_140634_714 | 5hr | 2 worms on agar the entire time. Just their heads exit the frame; 1 worm no agar the entire time. |\n",
       "\n"
      ],
      "text/plain": [
       "  file_id             time\n",
       "1 20240722_104547_685 1hr \n",
       "2 20240722_104800_780 1hr \n",
       "3 20240722_105049_233 1hr \n",
       "4 20240722_105204_511 1hr \n",
       "5 20240722_135936_253 5hr \n",
       "6 20240722_140218_590 5hr \n",
       "7 20240722_140333_297 5hr \n",
       "8 20240722_140446_147 5hr \n",
       "9 20240722_140634_714 5hr \n",
       "  description                                                                                      \n",
       "1 1 worm inframe on agar the entire time; 1 worm in and out of FOV                                 \n",
       "2 1 worm inframe on agar the entire time                                                           \n",
       "3 1 worm inframe no agar the entire time, blurry; 1 worm enters FOV, blurry                        \n",
       "4 1 worm in frame but FOV moves, no agar until end                                                 \n",
       "5 1 worm inframe on agar entire time                                                               \n",
       "6 1 worm in frame no agar the entire time                                                          \n",
       "7 1 worm in frame on agar the entire time                                                          \n",
       "8 2 worms in frame on agar the entire time                                                         \n",
       "9 2 worms on agar the entire time. Just their heads exit the frame; 1 worm no agar the entire time."
      ]
     },
     "metadata": {},
     "output_type": "display_data"
    }
   ],
   "source": [
    "key <- data.frame(file_id = c(\"20240722_104547_685\", \"20240722_104800_780\", \"20240722_105049_233\", \"20240722_105204_511\",\n",
    "                             \"20240722_135936_253\", \"20240722_140218_590\", \"20240722_140333_297\", \"20240722_140446_147\",\n",
    "                              \"20240722_140634_714\"),\n",
    "                  time = c(\"1hr\", \"1hr\", \"1hr\", \"1hr\", \"5hr\", \"5hr\", \"5hr\", \"5hr\", \"5hr\"),\n",
    "                  description = c(\"1 worm inframe on agar the entire time; 1 worm in and out of FOV\", \n",
    "                                  \"1 worm inframe on agar the entire time\",\n",
    "                                  \"1 worm inframe no agar the entire time, blurry; 1 worm enters FOV, blurry\",\n",
    "                                  \"1 worm in frame but FOV moves, no agar until end\",\n",
    "                                  \"1 worm inframe on agar entire time\",\n",
    "                                  \"1 worm in frame no agar the entire time\",\n",
    "                                  \"1 worm in frame on agar the entire time\",\n",
    "                                  \"2 worms in frame on agar the entire time\",\n",
    "                                  \"2 worms on agar the entire time. Just their heads exit the frame; 1 worm no agar the entire time.\"))\n",
    "\n",
    "key"
   ]
  },
  {
   "cell_type": "markdown",
   "id": "a9476043-80f1-4668-a693-a4357fc5a591",
   "metadata": {},
   "source": [
    "## Set up notebook"
   ]
  },
  {
   "cell_type": "code",
   "execution_count": 1,
   "id": "dad132c1-3deb-41f6-a0d8-79ab91c82fb5",
   "metadata": {},
   "outputs": [
    {
     "name": "stderr",
     "output_type": "stream",
     "text": [
      "\n",
      "Attaching package: ‘dplyr’\n",
      "\n",
      "\n",
      "The following objects are masked from ‘package:stats’:\n",
      "\n",
      "    filter, lag\n",
      "\n",
      "\n",
      "The following objects are masked from ‘package:base’:\n",
      "\n",
      "    intersect, setdiff, setequal, union\n",
      "\n",
      "\n"
     ]
    }
   ],
   "source": [
    "library(dplyr)\n",
    "library(purrr)\n",
    "library(rhdf5)\n",
    "library(stringr)"
   ]
  },
  {
   "cell_type": "code",
   "execution_count": 2,
   "id": "5fff5d78-546c-4b05-83a9-59cd7f3c2f32",
   "metadata": {},
   "outputs": [],
   "source": [
    "setwd(\"..\")"
   ]
  },
  {
   "cell_type": "markdown",
   "id": "f2f271ae-50f5-4d62-a46f-9ccb5f6eac90",
   "metadata": {},
   "source": [
    "## Functions"
   ]
  },
  {
   "cell_type": "code",
   "execution_count": 44,
   "id": "800588cd-6d64-4e53-9526-ea0c490dde94",
   "metadata": {},
   "outputs": [],
   "source": [
    "process_hdf5_files <- function(hdf5_files, required_frames) {\n",
    "  hdf5_files %>%\n",
    "    map_dfr(~{\n",
    "      # The \"/timeseries_data\" contains per-worm and per-frame measurements (ex curvature_mean_tail_abs_IQR).\n",
    "      # Susceptible to NAs, but NAs might be useful to winnow to high-signal data.\n",
    "      # This is probably the main readout we'll use for estimating phenotypes.\n",
    "      timeseries_data <- h5read(.x, name = \"/timeseries_data\")\n",
    "      \n",
    "      # We need a distinct worm_index for each worm.\n",
    "      # Grab folder that nd2 sits in, which right now is our unique identifier.\n",
    "      # This might need to change for subsequent experiments.\n",
    "      # file_id <- str_extract(basename(dirname(.x)), \"^[^\\\\.]+\")\n",
    "      # just parse file_id after bc it will change per experiment\n",
    "        \n",
    "      processed_data <- timeseries_data %>%\n",
    "        mutate(file_id = .x,\n",
    "               across(everything(), ~replace(., is.nan(.), NA))) %>%\n",
    "        select(-well_name) %>%  # Remove well_name column\n",
    "        filter(!if_all(-c(worm_index, timestamp), is.na))  # Filter out rows that are all NA except for the first two columns\n",
    "      \n",
    "      # Filter based on number of frames.\n",
    "      # If there aren't enough frames of the worm, it usually means that Tierpsy tracker had trouble measuring that worm.\n",
    "      # When this is the case, the data have a lot of NAs.\n",
    "      # Alternatively, few frames could mean that the worm entered into the field of view during mid-capture.\n",
    "      # I'm not sure how to compare mid-capture worms against normal worms, so for now we don't discriminate between these two failure modes,\n",
    "      # we just remove everything that doesn't have plentiful frames.\n",
    "      processed_data %>%\n",
    "        group_by(worm_index) %>%\n",
    "        filter(n() > required_frames) %>%\n",
    "        ungroup() \n",
    "    })\n",
    "}"
   ]
  },
  {
   "cell_type": "code",
   "execution_count": 45,
   "id": "5d5fdb17-3a98-487c-b18e-7d216932bc14",
   "metadata": {},
   "outputs": [],
   "source": [
    "parse_file_id <- function(df) {\n",
    " df %>%\n",
    "    mutate(file_id = str_extract(basename(dirname(file_id)), \"^[^\\\\.]+\"))\n",
    "}"
   ]
  },
  {
   "cell_type": "markdown",
   "id": "edea1fe3-1114-4871-9a15-ab71f679cf40",
   "metadata": {},
   "source": [
    "## Read in time series data"
   ]
  },
  {
   "cell_type": "code",
   "execution_count": 43,
   "id": "520e1207-693c-4586-b4a5-38d4a54629bf",
   "metadata": {},
   "outputs": [],
   "source": [
    "hdf5_files_dogfilter_imgs_with_dogfilter_json <- Sys.glob(\"tmp/NGM_manual_tracking_both/dogfilter_json_results/Results/*/*/*dogfilter_featuresN.hdf5\")\n",
    "hdf5_files_nofilter_imgs_with_dogfilter_json <- Sys.glob(\"tmp/NGM_manual_tracking_both/dogfilter_json_results/Results/*/*/*0_featuresN.hdf5\")\n",
    "\n",
    "hdf5_files_dogfilter_imgs_with_nofilter_json <- Sys.glob(\"tmp/NGM_manual_tracking_both/nofilter_json_results/Results/*/*/*dogfilter_featuresN.hdf5\")\n",
    "hdf5_files_nofilter_imgs_with_nofilter_json <- Sys.glob(\"tmp/NGM_manual_tracking_both/nofilter_json_results/Results/*/*/*0_featuresN.hdf5\")"
   ]
  },
  {
   "cell_type": "code",
   "execution_count": 46,
   "id": "306c5406-c06a-48ee-b8e7-7068eab5e2c0",
   "metadata": {},
   "outputs": [],
   "source": [
    "# using required_frames = 200 means that a worm must show up in 1/3 of the frames for it to be tracked and counted\n",
    "dogfilter_img_dogfilter_json <- process_hdf5_files(hdf5_files_dogfilter_imgs_with_dogfilter_json, required_frames = 200) %>% parse_file_id()\n",
    "nofilter_img_dogfilter_json <- process_hdf5_files(hdf5_files_nofilter_imgs_with_dogfilter_json, required_frames = 200) %>% parse_file_id()\n",
    "dogfilter_img_nofilter_json <- process_hdf5_files(hdf5_files_dogfilter_imgs_with_nofilter_json, required_frames = 200) %>% parse_file_id()\n",
    "nofilter_img_nofilter_json <- process_hdf5_files(hdf5_files_nofilter_imgs_with_nofilter_json, required_frames = 200) %>% parse_file_id"
   ]
  },
  {
   "cell_type": "code",
   "execution_count": 56,
   "id": "ba5e4990-11e5-4be9-b3be-7ce56ee89401",
   "metadata": {},
   "outputs": [
    {
     "name": "stderr",
     "output_type": "stream",
     "text": [
      "\u001b[1m\u001b[22mJoining with `by = join_by(file_id)`\n"
     ]
    },
    {
     "data": {
      "text/html": [
       "<table class=\"dataframe\">\n",
       "<caption>A grouped_df: 9 × 5</caption>\n",
       "<thead>\n",
       "\t<tr><th scope=col>file_id</th><th scope=col>worm_index</th><th scope=col>n</th><th scope=col>time</th><th scope=col>description</th></tr>\n",
       "\t<tr><th scope=col>&lt;chr&gt;</th><th scope=col>&lt;int[1d]&gt;</th><th scope=col>&lt;int&gt;</th><th scope=col>&lt;chr&gt;</th><th scope=col>&lt;chr&gt;</th></tr>\n",
       "</thead>\n",
       "<tbody>\n",
       "\t<tr><td>20240722_104547_685</td><td> 2</td><td>369</td><td>1hr</td><td>1 worm inframe on agar the entire time; 1 worm in and out of FOV                                 </td></tr>\n",
       "\t<tr><td>20240722_104800_780</td><td> 1</td><td>735</td><td>1hr</td><td>1 worm inframe on agar the entire time                                                           </td></tr>\n",
       "\t<tr><td>20240722_105049_233</td><td>NA</td><td> NA</td><td>1hr</td><td>1 worm inframe no agar the entire time, blurry; 1 worm enters FOV, blurry                        </td></tr>\n",
       "\t<tr><td>20240722_105204_511</td><td>NA</td><td> NA</td><td>1hr</td><td>1 worm in frame but FOV moves, no agar until end                                                 </td></tr>\n",
       "\t<tr><td>20240722_135936_253</td><td> 8</td><td>546</td><td>5hr</td><td>1 worm inframe on agar entire time                                                               </td></tr>\n",
       "\t<tr><td>20240722_140333_297</td><td> 1</td><td>735</td><td>5hr</td><td>1 worm in frame on agar the entire time                                                          </td></tr>\n",
       "\t<tr><td>20240722_140446_147</td><td> 3</td><td>735</td><td>5hr</td><td>2 worms in frame on agar the entire time                                                         </td></tr>\n",
       "\t<tr><td>20240722_140218_590</td><td>NA</td><td> NA</td><td>5hr</td><td>1 worm in frame no agar the entire time                                                          </td></tr>\n",
       "\t<tr><td>20240722_140634_714</td><td>NA</td><td> NA</td><td>5hr</td><td>2 worms on agar the entire time. Just their heads exit the frame; 1 worm no agar the entire time.</td></tr>\n",
       "</tbody>\n",
       "</table>\n"
      ],
      "text/latex": [
       "A grouped\\_df: 9 × 5\n",
       "\\begin{tabular}{lllll}\n",
       " file\\_id & worm\\_index & n & time & description\\\\\n",
       " <chr> & <int{[}1d{]}> & <int> & <chr> & <chr>\\\\\n",
       "\\hline\n",
       "\t 20240722\\_104547\\_685 &  2 & 369 & 1hr & 1 worm inframe on agar the entire time; 1 worm in and out of FOV                                 \\\\\n",
       "\t 20240722\\_104800\\_780 &  1 & 735 & 1hr & 1 worm inframe on agar the entire time                                                           \\\\\n",
       "\t 20240722\\_105049\\_233 & NA &  NA & 1hr & 1 worm inframe no agar the entire time, blurry; 1 worm enters FOV, blurry                        \\\\\n",
       "\t 20240722\\_105204\\_511 & NA &  NA & 1hr & 1 worm in frame but FOV moves, no agar until end                                                 \\\\\n",
       "\t 20240722\\_135936\\_253 &  8 & 546 & 5hr & 1 worm inframe on agar entire time                                                               \\\\\n",
       "\t 20240722\\_140333\\_297 &  1 & 735 & 5hr & 1 worm in frame on agar the entire time                                                          \\\\\n",
       "\t 20240722\\_140446\\_147 &  3 & 735 & 5hr & 2 worms in frame on agar the entire time                                                         \\\\\n",
       "\t 20240722\\_140218\\_590 & NA &  NA & 5hr & 1 worm in frame no agar the entire time                                                          \\\\\n",
       "\t 20240722\\_140634\\_714 & NA &  NA & 5hr & 2 worms on agar the entire time. Just their heads exit the frame; 1 worm no agar the entire time.\\\\\n",
       "\\end{tabular}\n"
      ],
      "text/markdown": [
       "\n",
       "A grouped_df: 9 × 5\n",
       "\n",
       "| file_id &lt;chr&gt; | worm_index &lt;int[1d]&gt; | n &lt;int&gt; | time &lt;chr&gt; | description &lt;chr&gt; |\n",
       "|---|---|---|---|---|\n",
       "| 20240722_104547_685 |  2 | 369 | 1hr | 1 worm inframe on agar the entire time; 1 worm in and out of FOV                                  |\n",
       "| 20240722_104800_780 |  1 | 735 | 1hr | 1 worm inframe on agar the entire time                                                            |\n",
       "| 20240722_105049_233 | NA |  NA | 1hr | 1 worm inframe no agar the entire time, blurry; 1 worm enters FOV, blurry                         |\n",
       "| 20240722_105204_511 | NA |  NA | 1hr | 1 worm in frame but FOV moves, no agar until end                                                  |\n",
       "| 20240722_135936_253 |  8 | 546 | 5hr | 1 worm inframe on agar entire time                                                                |\n",
       "| 20240722_140333_297 |  1 | 735 | 5hr | 1 worm in frame on agar the entire time                                                           |\n",
       "| 20240722_140446_147 |  3 | 735 | 5hr | 2 worms in frame on agar the entire time                                                          |\n",
       "| 20240722_140218_590 | NA |  NA | 5hr | 1 worm in frame no agar the entire time                                                           |\n",
       "| 20240722_140634_714 | NA |  NA | 5hr | 2 worms on agar the entire time. Just their heads exit the frame; 1 worm no agar the entire time. |\n",
       "\n"
      ],
      "text/plain": [
       "  file_id             worm_index n   time\n",
       "1 20240722_104547_685  2         369 1hr \n",
       "2 20240722_104800_780  1         735 1hr \n",
       "3 20240722_105049_233 NA          NA 1hr \n",
       "4 20240722_105204_511 NA          NA 1hr \n",
       "5 20240722_135936_253  8         546 5hr \n",
       "6 20240722_140333_297  1         735 5hr \n",
       "7 20240722_140446_147  3         735 5hr \n",
       "8 20240722_140218_590 NA          NA 5hr \n",
       "9 20240722_140634_714 NA          NA 5hr \n",
       "  description                                                                                      \n",
       "1 1 worm inframe on agar the entire time; 1 worm in and out of FOV                                 \n",
       "2 1 worm inframe on agar the entire time                                                           \n",
       "3 1 worm inframe no agar the entire time, blurry; 1 worm enters FOV, blurry                        \n",
       "4 1 worm in frame but FOV moves, no agar until end                                                 \n",
       "5 1 worm inframe on agar entire time                                                               \n",
       "6 1 worm in frame on agar the entire time                                                          \n",
       "7 2 worms in frame on agar the entire time                                                         \n",
       "8 1 worm in frame no agar the entire time                                                          \n",
       "9 2 worms on agar the entire time. Just their heads exit the frame; 1 worm no agar the entire time."
      ]
     },
     "metadata": {},
     "output_type": "display_data"
    }
   ],
   "source": [
    "dogfilter_img_dogfilter_json %>%\n",
    "  group_by(file_id, worm_index) %>%\n",
    "  tally() %>%\n",
    "  full_join(key) %>%\n",
    "  arrange(time)"
   ]
  },
  {
   "cell_type": "markdown",
   "id": "dfab98c4-d182-40a4-bf5f-30aa39484f71",
   "metadata": {},
   "source": [
    "**Score**: 1/2, 1/1, 0/2, 0/1; 1/1, 1/1, 1/1, 1/2, 0/1, 0/3 = **6/14 worms**"
   ]
  },
  {
   "cell_type": "code",
   "execution_count": 58,
   "id": "b53968b1-ade2-4a31-ae58-27322bc5e6d5",
   "metadata": {},
   "outputs": [
    {
     "name": "stderr",
     "output_type": "stream",
     "text": [
      "\u001b[1m\u001b[22mJoining with `by = join_by(file_id)`\n"
     ]
    },
    {
     "data": {
      "text/html": [
       "<table class=\"dataframe\">\n",
       "<caption>A grouped_df: 11 × 5</caption>\n",
       "<thead>\n",
       "\t<tr><th scope=col>file_id</th><th scope=col>worm_index</th><th scope=col>n</th><th scope=col>time</th><th scope=col>description</th></tr>\n",
       "\t<tr><th scope=col>&lt;chr&gt;</th><th scope=col>&lt;int[1d]&gt;</th><th scope=col>&lt;int&gt;</th><th scope=col>&lt;chr&gt;</th><th scope=col>&lt;chr&gt;</th></tr>\n",
       "</thead>\n",
       "<tbody>\n",
       "\t<tr><td>20240722_105204_511</td><td> 1</td><td>735</td><td>1hr</td><td>1 worm in frame but FOV moves, no agar until end                                                 </td></tr>\n",
       "\t<tr><td>20240722_104547_685</td><td>NA</td><td> NA</td><td>1hr</td><td>1 worm inframe on agar the entire time; 1 worm in and out of FOV                                 </td></tr>\n",
       "\t<tr><td>20240722_104800_780</td><td>NA</td><td> NA</td><td>1hr</td><td>1 worm inframe on agar the entire time                                                           </td></tr>\n",
       "\t<tr><td>20240722_105049_233</td><td>NA</td><td> NA</td><td>1hr</td><td>1 worm inframe no agar the entire time, blurry; 1 worm enters FOV, blurry                        </td></tr>\n",
       "\t<tr><td>20240722_140218_590</td><td> 1</td><td>339</td><td>5hr</td><td>1 worm in frame no agar the entire time                                                          </td></tr>\n",
       "\t<tr><td>20240722_140218_590</td><td> 2</td><td>396</td><td>5hr</td><td>1 worm in frame no agar the entire time                                                          </td></tr>\n",
       "\t<tr><td>20240722_140333_297</td><td> 3</td><td>735</td><td>5hr</td><td>1 worm in frame on agar the entire time                                                          </td></tr>\n",
       "\t<tr><td>20240722_140634_714</td><td> 1</td><td>736</td><td>5hr</td><td>2 worms on agar the entire time. Just their heads exit the frame; 1 worm no agar the entire time.</td></tr>\n",
       "\t<tr><td>20240722_140634_714</td><td> 2</td><td>736</td><td>5hr</td><td>2 worms on agar the entire time. Just their heads exit the frame; 1 worm no agar the entire time.</td></tr>\n",
       "\t<tr><td>20240722_135936_253</td><td>NA</td><td> NA</td><td>5hr</td><td>1 worm inframe on agar entire time                                                               </td></tr>\n",
       "\t<tr><td>20240722_140446_147</td><td>NA</td><td> NA</td><td>5hr</td><td>2 worms in frame on agar the entire time                                                         </td></tr>\n",
       "</tbody>\n",
       "</table>\n"
      ],
      "text/latex": [
       "A grouped\\_df: 11 × 5\n",
       "\\begin{tabular}{lllll}\n",
       " file\\_id & worm\\_index & n & time & description\\\\\n",
       " <chr> & <int{[}1d{]}> & <int> & <chr> & <chr>\\\\\n",
       "\\hline\n",
       "\t 20240722\\_105204\\_511 &  1 & 735 & 1hr & 1 worm in frame but FOV moves, no agar until end                                                 \\\\\n",
       "\t 20240722\\_104547\\_685 & NA &  NA & 1hr & 1 worm inframe on agar the entire time; 1 worm in and out of FOV                                 \\\\\n",
       "\t 20240722\\_104800\\_780 & NA &  NA & 1hr & 1 worm inframe on agar the entire time                                                           \\\\\n",
       "\t 20240722\\_105049\\_233 & NA &  NA & 1hr & 1 worm inframe no agar the entire time, blurry; 1 worm enters FOV, blurry                        \\\\\n",
       "\t 20240722\\_140218\\_590 &  1 & 339 & 5hr & 1 worm in frame no agar the entire time                                                          \\\\\n",
       "\t 20240722\\_140218\\_590 &  2 & 396 & 5hr & 1 worm in frame no agar the entire time                                                          \\\\\n",
       "\t 20240722\\_140333\\_297 &  3 & 735 & 5hr & 1 worm in frame on agar the entire time                                                          \\\\\n",
       "\t 20240722\\_140634\\_714 &  1 & 736 & 5hr & 2 worms on agar the entire time. Just their heads exit the frame; 1 worm no agar the entire time.\\\\\n",
       "\t 20240722\\_140634\\_714 &  2 & 736 & 5hr & 2 worms on agar the entire time. Just their heads exit the frame; 1 worm no agar the entire time.\\\\\n",
       "\t 20240722\\_135936\\_253 & NA &  NA & 5hr & 1 worm inframe on agar entire time                                                               \\\\\n",
       "\t 20240722\\_140446\\_147 & NA &  NA & 5hr & 2 worms in frame on agar the entire time                                                         \\\\\n",
       "\\end{tabular}\n"
      ],
      "text/markdown": [
       "\n",
       "A grouped_df: 11 × 5\n",
       "\n",
       "| file_id &lt;chr&gt; | worm_index &lt;int[1d]&gt; | n &lt;int&gt; | time &lt;chr&gt; | description &lt;chr&gt; |\n",
       "|---|---|---|---|---|\n",
       "| 20240722_105204_511 |  1 | 735 | 1hr | 1 worm in frame but FOV moves, no agar until end                                                  |\n",
       "| 20240722_104547_685 | NA |  NA | 1hr | 1 worm inframe on agar the entire time; 1 worm in and out of FOV                                  |\n",
       "| 20240722_104800_780 | NA |  NA | 1hr | 1 worm inframe on agar the entire time                                                            |\n",
       "| 20240722_105049_233 | NA |  NA | 1hr | 1 worm inframe no agar the entire time, blurry; 1 worm enters FOV, blurry                         |\n",
       "| 20240722_140218_590 |  1 | 339 | 5hr | 1 worm in frame no agar the entire time                                                           |\n",
       "| 20240722_140218_590 |  2 | 396 | 5hr | 1 worm in frame no agar the entire time                                                           |\n",
       "| 20240722_140333_297 |  3 | 735 | 5hr | 1 worm in frame on agar the entire time                                                           |\n",
       "| 20240722_140634_714 |  1 | 736 | 5hr | 2 worms on agar the entire time. Just their heads exit the frame; 1 worm no agar the entire time. |\n",
       "| 20240722_140634_714 |  2 | 736 | 5hr | 2 worms on agar the entire time. Just their heads exit the frame; 1 worm no agar the entire time. |\n",
       "| 20240722_135936_253 | NA |  NA | 5hr | 1 worm inframe on agar entire time                                                                |\n",
       "| 20240722_140446_147 | NA |  NA | 5hr | 2 worms in frame on agar the entire time                                                          |\n",
       "\n"
      ],
      "text/plain": [
       "   file_id             worm_index n   time\n",
       "1  20240722_105204_511  1         735 1hr \n",
       "2  20240722_104547_685 NA          NA 1hr \n",
       "3  20240722_104800_780 NA          NA 1hr \n",
       "4  20240722_105049_233 NA          NA 1hr \n",
       "5  20240722_140218_590  1         339 5hr \n",
       "6  20240722_140218_590  2         396 5hr \n",
       "7  20240722_140333_297  3         735 5hr \n",
       "8  20240722_140634_714  1         736 5hr \n",
       "9  20240722_140634_714  2         736 5hr \n",
       "10 20240722_135936_253 NA          NA 5hr \n",
       "11 20240722_140446_147 NA          NA 5hr \n",
       "   description                                                                                      \n",
       "1  1 worm in frame but FOV moves, no agar until end                                                 \n",
       "2  1 worm inframe on agar the entire time; 1 worm in and out of FOV                                 \n",
       "3  1 worm inframe on agar the entire time                                                           \n",
       "4  1 worm inframe no agar the entire time, blurry; 1 worm enters FOV, blurry                        \n",
       "5  1 worm in frame no agar the entire time                                                          \n",
       "6  1 worm in frame no agar the entire time                                                          \n",
       "7  1 worm in frame on agar the entire time                                                          \n",
       "8  2 worms on agar the entire time. Just their heads exit the frame; 1 worm no agar the entire time.\n",
       "9  2 worms on agar the entire time. Just their heads exit the frame; 1 worm no agar the entire time.\n",
       "10 1 worm inframe on agar entire time                                                               \n",
       "11 2 worms in frame on agar the entire time                                                         "
      ]
     },
     "metadata": {},
     "output_type": "display_data"
    }
   ],
   "source": [
    "nofilter_img_nofilter_json %>%\n",
    "  group_by(file_id, worm_index) %>%\n",
    "  tally() %>%\n",
    "  full_join(key) %>%\n",
    "  arrange(time)"
   ]
  },
  {
   "cell_type": "markdown",
   "id": "36e2c485-a362-45f6-a187-ac40eda338d3",
   "metadata": {},
   "source": [
    "**Score**: 1/1, 0/2, 0/1, 0/2; (one worm split in two), 1/1, 2/3, 0/1, 0/2 = **4/14**"
   ]
  },
  {
   "cell_type": "code",
   "execution_count": 57,
   "id": "ab1460e1-89d9-418a-a713-48201955597c",
   "metadata": {},
   "outputs": [
    {
     "name": "stderr",
     "output_type": "stream",
     "text": [
      "\u001b[1m\u001b[22mJoining with `by = join_by(file_id)`\n"
     ]
    },
    {
     "data": {
      "text/html": [
       "<table class=\"dataframe\">\n",
       "<caption>A grouped_df: 13 × 5</caption>\n",
       "<thead>\n",
       "\t<tr><th scope=col>file_id</th><th scope=col>worm_index</th><th scope=col>n</th><th scope=col>time</th><th scope=col>description</th></tr>\n",
       "\t<tr><th scope=col>&lt;chr&gt;</th><th scope=col>&lt;int[1d]&gt;</th><th scope=col>&lt;int&gt;</th><th scope=col>&lt;chr&gt;</th><th scope=col>&lt;chr&gt;</th></tr>\n",
       "</thead>\n",
       "<tbody>\n",
       "\t<tr><td>20240722_104800_780</td><td>  8</td><td>421</td><td>1hr</td><td>1 worm inframe on agar the entire time                                                           </td></tr>\n",
       "\t<tr><td>20240722_105204_511</td><td>  1</td><td>735</td><td>1hr</td><td>1 worm in frame but FOV moves, no agar until end                                                 </td></tr>\n",
       "\t<tr><td>20240722_104547_685</td><td> NA</td><td> NA</td><td>1hr</td><td>1 worm inframe on agar the entire time; 1 worm in and out of FOV                                 </td></tr>\n",
       "\t<tr><td>20240722_105049_233</td><td> NA</td><td> NA</td><td>1hr</td><td>1 worm inframe no agar the entire time, blurry; 1 worm enters FOV, blurry                        </td></tr>\n",
       "\t<tr><td>20240722_140218_590</td><td>  1</td><td>339</td><td>5hr</td><td>1 worm in frame no agar the entire time                                                          </td></tr>\n",
       "\t<tr><td>20240722_140218_590</td><td>  2</td><td>396</td><td>5hr</td><td>1 worm in frame no agar the entire time                                                          </td></tr>\n",
       "\t<tr><td>20240722_140333_297</td><td>  3</td><td>735</td><td>5hr</td><td>1 worm in frame on agar the entire time                                                          </td></tr>\n",
       "\t<tr><td>20240722_140333_297</td><td>  6</td><td>527</td><td>5hr</td><td>1 worm in frame on agar the entire time                                                          </td></tr>\n",
       "\t<tr><td>20240722_140333_297</td><td>696</td><td>207</td><td>5hr</td><td>1 worm in frame on agar the entire time                                                          </td></tr>\n",
       "\t<tr><td>20240722_140446_147</td><td> 17</td><td>625</td><td>5hr</td><td>2 worms in frame on agar the entire time                                                         </td></tr>\n",
       "\t<tr><td>20240722_140634_714</td><td>  1</td><td>736</td><td>5hr</td><td>2 worms on agar the entire time. Just their heads exit the frame; 1 worm no agar the entire time.</td></tr>\n",
       "\t<tr><td>20240722_140634_714</td><td>  4</td><td>700</td><td>5hr</td><td>2 worms on agar the entire time. Just their heads exit the frame; 1 worm no agar the entire time.</td></tr>\n",
       "\t<tr><td>20240722_135936_253</td><td> NA</td><td> NA</td><td>5hr</td><td>1 worm inframe on agar entire time                                                               </td></tr>\n",
       "</tbody>\n",
       "</table>\n"
      ],
      "text/latex": [
       "A grouped\\_df: 13 × 5\n",
       "\\begin{tabular}{lllll}\n",
       " file\\_id & worm\\_index & n & time & description\\\\\n",
       " <chr> & <int{[}1d{]}> & <int> & <chr> & <chr>\\\\\n",
       "\\hline\n",
       "\t 20240722\\_104800\\_780 &   8 & 421 & 1hr & 1 worm inframe on agar the entire time                                                           \\\\\n",
       "\t 20240722\\_105204\\_511 &   1 & 735 & 1hr & 1 worm in frame but FOV moves, no agar until end                                                 \\\\\n",
       "\t 20240722\\_104547\\_685 &  NA &  NA & 1hr & 1 worm inframe on agar the entire time; 1 worm in and out of FOV                                 \\\\\n",
       "\t 20240722\\_105049\\_233 &  NA &  NA & 1hr & 1 worm inframe no agar the entire time, blurry; 1 worm enters FOV, blurry                        \\\\\n",
       "\t 20240722\\_140218\\_590 &   1 & 339 & 5hr & 1 worm in frame no agar the entire time                                                          \\\\\n",
       "\t 20240722\\_140218\\_590 &   2 & 396 & 5hr & 1 worm in frame no agar the entire time                                                          \\\\\n",
       "\t 20240722\\_140333\\_297 &   3 & 735 & 5hr & 1 worm in frame on agar the entire time                                                          \\\\\n",
       "\t 20240722\\_140333\\_297 &   6 & 527 & 5hr & 1 worm in frame on agar the entire time                                                          \\\\\n",
       "\t 20240722\\_140333\\_297 & 696 & 207 & 5hr & 1 worm in frame on agar the entire time                                                          \\\\\n",
       "\t 20240722\\_140446\\_147 &  17 & 625 & 5hr & 2 worms in frame on agar the entire time                                                         \\\\\n",
       "\t 20240722\\_140634\\_714 &   1 & 736 & 5hr & 2 worms on agar the entire time. Just their heads exit the frame; 1 worm no agar the entire time.\\\\\n",
       "\t 20240722\\_140634\\_714 &   4 & 700 & 5hr & 2 worms on agar the entire time. Just their heads exit the frame; 1 worm no agar the entire time.\\\\\n",
       "\t 20240722\\_135936\\_253 &  NA &  NA & 5hr & 1 worm inframe on agar entire time                                                               \\\\\n",
       "\\end{tabular}\n"
      ],
      "text/markdown": [
       "\n",
       "A grouped_df: 13 × 5\n",
       "\n",
       "| file_id &lt;chr&gt; | worm_index &lt;int[1d]&gt; | n &lt;int&gt; | time &lt;chr&gt; | description &lt;chr&gt; |\n",
       "|---|---|---|---|---|\n",
       "| 20240722_104800_780 |   8 | 421 | 1hr | 1 worm inframe on agar the entire time                                                            |\n",
       "| 20240722_105204_511 |   1 | 735 | 1hr | 1 worm in frame but FOV moves, no agar until end                                                  |\n",
       "| 20240722_104547_685 |  NA |  NA | 1hr | 1 worm inframe on agar the entire time; 1 worm in and out of FOV                                  |\n",
       "| 20240722_105049_233 |  NA |  NA | 1hr | 1 worm inframe no agar the entire time, blurry; 1 worm enters FOV, blurry                         |\n",
       "| 20240722_140218_590 |   1 | 339 | 5hr | 1 worm in frame no agar the entire time                                                           |\n",
       "| 20240722_140218_590 |   2 | 396 | 5hr | 1 worm in frame no agar the entire time                                                           |\n",
       "| 20240722_140333_297 |   3 | 735 | 5hr | 1 worm in frame on agar the entire time                                                           |\n",
       "| 20240722_140333_297 |   6 | 527 | 5hr | 1 worm in frame on agar the entire time                                                           |\n",
       "| 20240722_140333_297 | 696 | 207 | 5hr | 1 worm in frame on agar the entire time                                                           |\n",
       "| 20240722_140446_147 |  17 | 625 | 5hr | 2 worms in frame on agar the entire time                                                          |\n",
       "| 20240722_140634_714 |   1 | 736 | 5hr | 2 worms on agar the entire time. Just their heads exit the frame; 1 worm no agar the entire time. |\n",
       "| 20240722_140634_714 |   4 | 700 | 5hr | 2 worms on agar the entire time. Just their heads exit the frame; 1 worm no agar the entire time. |\n",
       "| 20240722_135936_253 |  NA |  NA | 5hr | 1 worm inframe on agar entire time                                                                |\n",
       "\n"
      ],
      "text/plain": [
       "   file_id             worm_index n   time\n",
       "1  20240722_104800_780   8        421 1hr \n",
       "2  20240722_105204_511   1        735 1hr \n",
       "3  20240722_104547_685  NA         NA 1hr \n",
       "4  20240722_105049_233  NA         NA 1hr \n",
       "5  20240722_140218_590   1        339 5hr \n",
       "6  20240722_140218_590   2        396 5hr \n",
       "7  20240722_140333_297   3        735 5hr \n",
       "8  20240722_140333_297   6        527 5hr \n",
       "9  20240722_140333_297 696        207 5hr \n",
       "10 20240722_140446_147  17        625 5hr \n",
       "11 20240722_140634_714   1        736 5hr \n",
       "12 20240722_140634_714   4        700 5hr \n",
       "13 20240722_135936_253  NA         NA 5hr \n",
       "   description                                                                                      \n",
       "1  1 worm inframe on agar the entire time                                                           \n",
       "2  1 worm in frame but FOV moves, no agar until end                                                 \n",
       "3  1 worm inframe on agar the entire time; 1 worm in and out of FOV                                 \n",
       "4  1 worm inframe no agar the entire time, blurry; 1 worm enters FOV, blurry                        \n",
       "5  1 worm in frame no agar the entire time                                                          \n",
       "6  1 worm in frame no agar the entire time                                                          \n",
       "7  1 worm in frame on agar the entire time                                                          \n",
       "8  1 worm in frame on agar the entire time                                                          \n",
       "9  1 worm in frame on agar the entire time                                                          \n",
       "10 2 worms in frame on agar the entire time                                                         \n",
       "11 2 worms on agar the entire time. Just their heads exit the frame; 1 worm no agar the entire time.\n",
       "12 2 worms on agar the entire time. Just their heads exit the frame; 1 worm no agar the entire time.\n",
       "13 1 worm inframe on agar entire time                                                               "
      ]
     },
     "metadata": {},
     "output_type": "display_data"
    }
   ],
   "source": [
    "nofilter_img_dogfilter_json %>%\n",
    "  group_by(file_id, worm_index) %>%\n",
    "  tally() %>%\n",
    "  full_join(key) %>%\n",
    "  arrange(time)"
   ]
  },
  {
   "cell_type": "markdown",
   "id": "337847e7-fe1e-485a-b488-02f2e76d9cfe",
   "metadata": {},
   "source": [
    "**Score**: 1/1, 1/1, 0/2, 0/2; (one worm split into 2), (one worm split into 3), 1/2, 2/3, 0/1 = **5/14** (i'm not counting the worms that get split)"
   ]
  },
  {
   "cell_type": "code",
   "execution_count": 59,
   "id": "41f5b8f8-b66f-4b6c-a9d2-e1f63b77004d",
   "metadata": {
    "scrolled": true
   },
   "outputs": [
    {
     "name": "stderr",
     "output_type": "stream",
     "text": [
      "\u001b[1m\u001b[22mJoining with `by = join_by(file_id)`\n"
     ]
    },
    {
     "data": {
      "text/html": [
       "<table class=\"dataframe\">\n",
       "<caption>A grouped_df: 9 × 5</caption>\n",
       "<thead>\n",
       "\t<tr><th scope=col>file_id</th><th scope=col>worm_index</th><th scope=col>n</th><th scope=col>time</th><th scope=col>description</th></tr>\n",
       "\t<tr><th scope=col>&lt;chr&gt;</th><th scope=col>&lt;int[1d]&gt;</th><th scope=col>&lt;int&gt;</th><th scope=col>&lt;chr&gt;</th><th scope=col>&lt;chr&gt;</th></tr>\n",
       "</thead>\n",
       "<tbody>\n",
       "\t<tr><td>20240722_104547_685</td><td> 2</td><td>278</td><td>1hr</td><td>1 worm inframe on agar the entire time; 1 worm in and out of FOV                                 </td></tr>\n",
       "\t<tr><td>20240722_104800_780</td><td> 1</td><td>312</td><td>1hr</td><td>1 worm inframe on agar the entire time                                                           </td></tr>\n",
       "\t<tr><td>20240722_105049_233</td><td>NA</td><td> NA</td><td>1hr</td><td>1 worm inframe no agar the entire time, blurry; 1 worm enters FOV, blurry                        </td></tr>\n",
       "\t<tr><td>20240722_105204_511</td><td>NA</td><td> NA</td><td>1hr</td><td>1 worm in frame but FOV moves, no agar until end                                                 </td></tr>\n",
       "\t<tr><td>20240722_135936_253</td><td> 6</td><td>388</td><td>5hr</td><td>1 worm inframe on agar entire time                                                               </td></tr>\n",
       "\t<tr><td>20240722_140446_147</td><td> 2</td><td>735</td><td>5hr</td><td>2 worms in frame on agar the entire time                                                         </td></tr>\n",
       "\t<tr><td>20240722_140218_590</td><td>NA</td><td> NA</td><td>5hr</td><td>1 worm in frame no agar the entire time                                                          </td></tr>\n",
       "\t<tr><td>20240722_140333_297</td><td>NA</td><td> NA</td><td>5hr</td><td>1 worm in frame on agar the entire time                                                          </td></tr>\n",
       "\t<tr><td>20240722_140634_714</td><td>NA</td><td> NA</td><td>5hr</td><td>2 worms on agar the entire time. Just their heads exit the frame; 1 worm no agar the entire time.</td></tr>\n",
       "</tbody>\n",
       "</table>\n"
      ],
      "text/latex": [
       "A grouped\\_df: 9 × 5\n",
       "\\begin{tabular}{lllll}\n",
       " file\\_id & worm\\_index & n & time & description\\\\\n",
       " <chr> & <int{[}1d{]}> & <int> & <chr> & <chr>\\\\\n",
       "\\hline\n",
       "\t 20240722\\_104547\\_685 &  2 & 278 & 1hr & 1 worm inframe on agar the entire time; 1 worm in and out of FOV                                 \\\\\n",
       "\t 20240722\\_104800\\_780 &  1 & 312 & 1hr & 1 worm inframe on agar the entire time                                                           \\\\\n",
       "\t 20240722\\_105049\\_233 & NA &  NA & 1hr & 1 worm inframe no agar the entire time, blurry; 1 worm enters FOV, blurry                        \\\\\n",
       "\t 20240722\\_105204\\_511 & NA &  NA & 1hr & 1 worm in frame but FOV moves, no agar until end                                                 \\\\\n",
       "\t 20240722\\_135936\\_253 &  6 & 388 & 5hr & 1 worm inframe on agar entire time                                                               \\\\\n",
       "\t 20240722\\_140446\\_147 &  2 & 735 & 5hr & 2 worms in frame on agar the entire time                                                         \\\\\n",
       "\t 20240722\\_140218\\_590 & NA &  NA & 5hr & 1 worm in frame no agar the entire time                                                          \\\\\n",
       "\t 20240722\\_140333\\_297 & NA &  NA & 5hr & 1 worm in frame on agar the entire time                                                          \\\\\n",
       "\t 20240722\\_140634\\_714 & NA &  NA & 5hr & 2 worms on agar the entire time. Just their heads exit the frame; 1 worm no agar the entire time.\\\\\n",
       "\\end{tabular}\n"
      ],
      "text/markdown": [
       "\n",
       "A grouped_df: 9 × 5\n",
       "\n",
       "| file_id &lt;chr&gt; | worm_index &lt;int[1d]&gt; | n &lt;int&gt; | time &lt;chr&gt; | description &lt;chr&gt; |\n",
       "|---|---|---|---|---|\n",
       "| 20240722_104547_685 |  2 | 278 | 1hr | 1 worm inframe on agar the entire time; 1 worm in and out of FOV                                  |\n",
       "| 20240722_104800_780 |  1 | 312 | 1hr | 1 worm inframe on agar the entire time                                                            |\n",
       "| 20240722_105049_233 | NA |  NA | 1hr | 1 worm inframe no agar the entire time, blurry; 1 worm enters FOV, blurry                         |\n",
       "| 20240722_105204_511 | NA |  NA | 1hr | 1 worm in frame but FOV moves, no agar until end                                                  |\n",
       "| 20240722_135936_253 |  6 | 388 | 5hr | 1 worm inframe on agar entire time                                                                |\n",
       "| 20240722_140446_147 |  2 | 735 | 5hr | 2 worms in frame on agar the entire time                                                          |\n",
       "| 20240722_140218_590 | NA |  NA | 5hr | 1 worm in frame no agar the entire time                                                           |\n",
       "| 20240722_140333_297 | NA |  NA | 5hr | 1 worm in frame on agar the entire time                                                           |\n",
       "| 20240722_140634_714 | NA |  NA | 5hr | 2 worms on agar the entire time. Just their heads exit the frame; 1 worm no agar the entire time. |\n",
       "\n"
      ],
      "text/plain": [
       "  file_id             worm_index n   time\n",
       "1 20240722_104547_685  2         278 1hr \n",
       "2 20240722_104800_780  1         312 1hr \n",
       "3 20240722_105049_233 NA          NA 1hr \n",
       "4 20240722_105204_511 NA          NA 1hr \n",
       "5 20240722_135936_253  6         388 5hr \n",
       "6 20240722_140446_147  2         735 5hr \n",
       "7 20240722_140218_590 NA          NA 5hr \n",
       "8 20240722_140333_297 NA          NA 5hr \n",
       "9 20240722_140634_714 NA          NA 5hr \n",
       "  description                                                                                      \n",
       "1 1 worm inframe on agar the entire time; 1 worm in and out of FOV                                 \n",
       "2 1 worm inframe on agar the entire time                                                           \n",
       "3 1 worm inframe no agar the entire time, blurry; 1 worm enters FOV, blurry                        \n",
       "4 1 worm in frame but FOV moves, no agar until end                                                 \n",
       "5 1 worm inframe on agar entire time                                                               \n",
       "6 2 worms in frame on agar the entire time                                                         \n",
       "7 1 worm in frame no agar the entire time                                                          \n",
       "8 1 worm in frame on agar the entire time                                                          \n",
       "9 2 worms on agar the entire time. Just their heads exit the frame; 1 worm no agar the entire time."
      ]
     },
     "metadata": {},
     "output_type": "display_data"
    }
   ],
   "source": [
    "dogfilter_img_nofilter_json %>%\n",
    "  group_by(file_id, worm_index) %>%\n",
    "  tally() %>%\n",
    "  full_join(key) %>%\n",
    "  arrange(time)"
   ]
  },
  {
   "cell_type": "markdown",
   "id": "a5f285ab-40d7-4712-9630-134f518d01a2",
   "metadata": {},
   "source": [
    "**Score**: 1/2, 1/1, 0/2, 0/1; 1/1, 1/2, 0/1, 0/1, 0/3 = **4/14 worms**"
   ]
  },
  {
   "cell_type": "markdown",
   "id": "ff0e6d77-d60d-4fa0-8f9a-da449d2625f8",
   "metadata": {},
   "source": [
    "# Conclusion\n",
    "\n",
    "**DoG-filtered images with a DoG-specific Tierpsy tracker config file lead to the best worm recall.**\n",
    "Currently, think the only strategy that would out-compete this is making a per-image (image-specific) config file and running Tierpsy tracker with that.\n",
    "\n",
    "Alternatively, we could perform more sophisticated masking/filtering/segmentation before running Tierpsy tracker."
   ]
  },
  {
   "cell_type": "code",
   "execution_count": 60,
   "id": "edaed29f-1aed-4c31-b24a-646db94fa58d",
   "metadata": {},
   "outputs": [
    {
     "data": {
      "text/plain": [
       "R version 4.3.3 (2024-02-29)\n",
       "Platform: x86_64-apple-darwin13.4.0 (64-bit)\n",
       "Running under: macOS Big Sur ... 10.16\n",
       "\n",
       "Matrix products: default\n",
       "BLAS/LAPACK: /Users/taylorreiter/miniconda3/envs/wormmotility/lib/libopenblasp-r0.3.27.dylib;  LAPACK version 3.12.0\n",
       "\n",
       "locale:\n",
       "[1] en_US.UTF-8/en_US.UTF-8/en_US.UTF-8/C/en_US.UTF-8/en_US.UTF-8\n",
       "\n",
       "time zone: America/New_York\n",
       "tzcode source: internal\n",
       "\n",
       "attached base packages:\n",
       "[1] stats     graphics  grDevices utils     datasets  methods   base     \n",
       "\n",
       "other attached packages:\n",
       "[1] stringr_1.5.1 rhdf5_2.46.1  purrr_1.0.2   dplyr_1.1.4  \n",
       "\n",
       "loaded via a namespace (and not attached):\n",
       " [1] crayon_1.5.3        vctrs_0.6.5         cli_3.6.3          \n",
       " [4] rlang_1.1.4         stringi_1.8.4       generics_0.1.3     \n",
       " [7] jsonlite_1.8.8      glue_1.7.0          htmltools_0.5.8.1  \n",
       "[10] IRdisplay_1.1       IRkernel_1.3.2      fansi_1.0.6        \n",
       "[13] evaluate_0.24.0     tibble_3.2.1        fastmap_1.2.0      \n",
       "[16] base64enc_0.1-3     Rhdf5lib_1.24.0     lifecycle_1.0.4    \n",
       "[19] compiler_4.3.3      rhdf5filters_1.14.1 pkgconfig_2.0.3    \n",
       "[22] pbdZMQ_0.3-11       digest_0.6.36       R6_2.5.1           \n",
       "[25] repr_1.1.7          tidyselect_1.2.1    utf8_1.2.4         \n",
       "[28] pillar_1.9.0        magrittr_2.0.3      withr_3.0.0        \n",
       "[31] uuid_1.2-0          tools_4.3.3        "
      ]
     },
     "metadata": {},
     "output_type": "display_data"
    }
   ],
   "source": [
    "sessionInfo()"
   ]
  },
  {
   "cell_type": "code",
   "execution_count": null,
   "id": "fecfc68f-15df-4b5d-ac57-7454fd9559c7",
   "metadata": {},
   "outputs": [],
   "source": []
  }
 ],
 "metadata": {
  "kernelspec": {
   "display_name": "R",
   "language": "R",
   "name": "ir"
  },
  "language_info": {
   "codemirror_mode": "r",
   "file_extension": ".r",
   "mimetype": "text/x-r-source",
   "name": "R",
   "pygments_lexer": "r",
   "version": "4.3.3"
  }
 },
 "nbformat": 4,
 "nbformat_minor": 5
}
